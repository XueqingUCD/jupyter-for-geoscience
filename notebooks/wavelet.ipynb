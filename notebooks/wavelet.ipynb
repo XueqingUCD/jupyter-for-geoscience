{
 "cells": [
  {
   "cell_type": "markdown",
   "metadata": {
    "toc-hr-collapsed": false
   },
   "source": [
    "# Wavelet transform using `pywavelet`"
   ]
  },
  {
   "cell_type": "markdown",
   "metadata": {},
   "source": [
    "## Introduction\n",
    "\n",
    "Wavelet transform is a powerful tool for analyzing localized variations of power with a time series or signals. Despite of many existing applications, it is difficulte to use because of the steep learning curve. Here, wavelet analysis is performed using [PyWavelet](https://github.com/PyWavelets/pywt) and an app is develped to facilitate the ease of use.\n",
    "\n",
    "Please note, part of the codes is shamelessly stolen from [geoscilabs](https://github.com/geoscixyz/geosci-labs) and [Wavelet analysis in Python](http://nicolasfauchereau.github.io/climatecode/posts/wavelet-analysis-in-python/).\n",
    "\n",
    "## Getting started\n",
    "\n",
    "- **Load data**. User needs to provide a text file with two columns with the following format. User also has the option to detrend the signal before wavelet transform.\n",
    "\n",
    "datetime|value\n",
    "---|---\n",
    "2018|0.43\n",
    "2018.25|9.0\n",
    "\n",
    "- **Choose parameters**. \n",
    "\n",
    "parameter|description\n",
    "---|---\n",
    "Scale_min|The smallest scale of wavelet. The default is $2*timestep$\n",
    "Scale_max|The largest scale of wavelet. This should be smaller than $len(data)/2$.\n",
    "Wavelet function|The wavelet family used. For continuous wavelet transform (CWT), `morl` is the default one. \n",
    "\n",
    "- **Run the app**\n",
    "\n",
    "**References**\n",
    "- Torrence, C., and G. P. Compo, 1998: [A practical guide to wavelet analysis](http://paos.colorado.edu/research/wavelets/bams_79_01_0061.pdf). Bull. Amer. Meteor. Soc., 79, 6178."
   ]
  },
  {
   "cell_type": "code",
   "execution_count": 1,
   "metadata": {},
   "outputs": [],
   "source": [
    "import sys\n",
    "sys.path.append(\"..\")\n",
    "from src.MyApp import wavelet_app\n",
    "from IPython.display import display"
   ]
  },
  {
   "cell_type": "code",
   "execution_count": 2,
   "metadata": {},
   "outputs": [],
   "source": [
    "%matplotlib inline\n",
    "import matplotlib as mpl\n",
    "mpl.rcParams['figure.dpi'] = 150"
   ]
  },
  {
   "cell_type": "code",
   "execution_count": 3,
   "metadata": {},
   "outputs": [
    {
     "data": {
      "application/vnd.jupyter.widget-view+json": {
       "model_id": "666ec7310678449985990303a8364ab0",
       "version_major": 2,
       "version_minor": 0
      },
      "text/plain": [
       "MyApp(children=(Text(value='../data/sst_nino3.txt', description='File path:', placeholder='Type something'), C…"
      ]
     },
     "metadata": {},
     "output_type": "display_data"
    }
   ],
   "source": [
    "app = wavelet_app()\n",
    "display(app)"
   ]
  }
 ],
 "metadata": {
  "kernelspec": {
   "display_name": "widget",
   "language": "python",
   "name": "widget"
  },
  "language_info": {
   "codemirror_mode": {
    "name": "ipython",
    "version": 3
   },
   "file_extension": ".py",
   "mimetype": "text/x-python",
   "name": "python",
   "nbconvert_exporter": "python",
   "pygments_lexer": "ipython3",
   "version": "3.7.3"
  },
  "toc-autonumbering": false
 },
 "nbformat": 4,
 "nbformat_minor": 4
}
