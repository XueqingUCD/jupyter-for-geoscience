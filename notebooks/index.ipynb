{
 "cells": [
  {
   "cell_type": "markdown",
   "metadata": {},
   "source": [
    "[![Binder](https://mybinder.org/badge_logo.svg)](https://mybinder.org/v2/gh/pinshuai/jupyter-for-geoscience/master?urlpath=lab/tree/index.ipynb)\n",
    "\n",
    "# A collection of Jupyter notebooks for geoscientists\n",
    "\n",
    "## Motivation\n",
    "\n",
    "Researchers often spend large amount of time writing boilerplate code for simple tasks such as visualizing and analyzing large datasets for their research. Although there are a number of existing R or Python packages for specific purpose, it is often difficult for researchers with less programming experience to choose the right package, not to mention using the package. Further, many packages lack good documentations and the example cases are often too simple compared to the real data. \n",
    "\n",
    "Within the geoscience community, researchers are now facing enormous amount of observation data (e.g., rainfall, streamflow and etc.) and how to visualize and analyze the data efficiently has always been a challenge. This needs to develop an easy-to-use tool for geoscientists to visualize and analyze large spatial-temporal data through interactive computational notebooks.\n",
    "\n",
    "## Approach\n",
    "We aim to provide a collection of Jupyter notebooks with each performing specific task for researchers within the geoscience community. Jupyter, an open-source, interactive, web-based notebook, has become an increasingly popular tool to conduct scientific research. It combines software code, narrative text and computational outputs in a single document. Researchers with the Jupyter notebook can easily rerun and reproduce the previous results without prior knowledge of the programming language. In addition, with the convenience of container like Docker image, researchers can launch Jupyter notebook server and run the interactive computing tools without installing any packages or dependencies. More conveniently, Jupyter notebooks can be launched instantly through cloud based free hosting service such as Binder (mybinder.org) and Google Colab (colab.research.google.com).\n",
    "\n",
    "Our goal is to help researchers gain scientific insights from the raw data much quicker and easier. Our approach has the following advantages:\n",
    "\n",
    "- Jupyter notebooks provides detailed documentation and friendly user interface that are easy to follow \n",
    "- Jupyter notebooks can be easily integrated into user’s existing workflow\n",
    "- All computation and analysis are fully reproducible\n",
    "- All notebooks are free and open-source\n",
    "\n",
    "## Examples\n",
    "This collection of notebooks are targeted at hydrologic and hydrogeologic dataset in particular. However, the workflow and methodology can be applied to geology, geophysics, atmospheric science and other field. Here are some notebooks example and the list is not exhaustive.\n",
    "\n",
    "\n",
    "- Download and visualize hydrologic data from USGS \n",
    "- [wavelet.ipynb](wavelet.ipynb): Spectral analysis of time-series data using Fast Fourier Transform and Wavelet Transform\n",
    "- Interpolation of spatial data using various geostatistical methods\n",
    "- Multi-variate analysis\n",
    "- Groundwater flow simulation with FloPy\n",
    "\n",
    "## Benefits\n",
    "\n",
    "The benefits of this work may include:\n",
    "\n",
    "1. The Jupyter notebooks provide researchers a convenient tool to visualize and analyze large datasets without coding. \n",
    "2. The Jupyter notebooks will be freely available on Github and Docker Hub, thus anyone who is interested in data visualization and data analysis may use and benefit from our work. \n",
    "3. This work would be of great interest to the geoscience community and a publication would broaden PNNL’s exposure within the community. \n",
    "\n",
    "## Acknowledgement\n",
    "This project is partly funded by the QuickStarter program at PNNL."
   ]
  },
  {
   "cell_type": "code",
   "execution_count": null,
   "metadata": {},
   "outputs": [],
   "source": []
  }
 ],
 "metadata": {
  "kernelspec": {
   "display_name": "widget",
   "language": "python",
   "name": "widget"
  },
  "language_info": {
   "codemirror_mode": {
    "name": "ipython",
    "version": 3
   },
   "file_extension": ".py",
   "mimetype": "text/x-python",
   "name": "python",
   "nbconvert_exporter": "python",
   "pygments_lexer": "ipython3",
   "version": "3.7.3"
  }
 },
 "nbformat": 4,
 "nbformat_minor": 4
}
